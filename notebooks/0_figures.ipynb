{
 "cells": [
  {
   "cell_type": "code",
   "execution_count": 6,
   "metadata": {},
   "outputs": [],
   "source": [
    "import numpy as np \n",
    "import seaborn as sns\n",
    "import matplotlib.pyplot as plt\n",
    "from matplotlib.pyplot import cm\n",
    "\n",
    "from matplotlib import rc\n",
    "rc('font',**{'family':'libertine'})\n",
    "rc('text', usetex=True)\n",
    "rc('text.latex', preamble=r'\\usepackage{scalerel,stackengine,amsmath,amssymb}')\n"
   ]
  },
  {
   "cell_type": "code",
   "execution_count": 17,
   "metadata": {},
   "outputs": [],
   "source": [
    "from scipy.stats import norm"
   ]
  },
  {
   "cell_type": "code",
   "execution_count": 126,
   "metadata": {},
   "outputs": [],
   "source": [
    "sns.set_style(\"whitegrid\")\n",
    "size = 3\n",
    "alpha = 0.30\n",
    "lw = 1"
   ]
  },
  {
   "cell_type": "code",
   "execution_count": 140,
   "metadata": {},
   "outputs": [
    {
     "data": {
      "image/png": "[encoded data removed]",
      "text/plain": [
       "<Figure size 324x216 with 1 Axes>"
      ]
     },
     "metadata": {},
     "output_type": "display_data"
    }
   ],
   "source": [
    "fig, ax = plt.subplots(figsize=(1.5 * size, size))\n",
    "\n",
    "t = np.arange(0.0, 1.1, 0.1)\n",
    "color = list(cm.Spectral(np.linspace(0, 1, len(t))))\n",
    "x = np.linspace(0.0, 1.0, 1000)\n",
    "\n",
    "xx = t[None, ] - 1.0 + 0.0 * x[:, None]\n",
    "yy = 1.0 - np.abs(x)[:, None] - 0.0 * t[None, :]\n",
    "ax.plot(1 + xx, yy, c='lightgrey', lw=lw)\n",
    "\n",
    "for i in range(len(t) - 1):\n",
    "    ax.fill_between(t[i:(i+2)], 1.0 - 0.0 * t[i:(i+2)], [0.0, 0.0], color=color[len(t) - i - 1], \n",
    "                    alpha=alpha)\n",
    "\n",
    "# gamma = 1.5, q = 0.6\n",
    "# for gamma, band, c in zip([7 / 3, 1.5], [7, 6], ['cornflowerblue', 'firebrick']):\n",
    "for gamma, band, c in zip([1.5], [6], ['firebrick']):\n",
    "    \n",
    "    xx = t[None, band:] - 1.0 + 0.0 * x[:, None]\n",
    "    yy = gamma - np.abs(x)[:, None] - 0.0 * t[None, band:]\n",
    "    ax.plot(1 + xx, yy, c='lightgrey', lw=lw)\n",
    "    \n",
    "    for i in range(band):\n",
    "        ax.fill_between(t[i:(i+2)], 1/gamma - 0.0 * t[i:(i+2)], [0.0, 0.0], color=color[len(t) - i - 1], \n",
    "                        alpha=alpha)\n",
    "    for i in range(band, len(t) - 1):\n",
    "        ax.fill_between(t[i:(i+2)], gamma - 0.0 * t[i:(i+2)], [0.0, 0.0], color=color[len(t) - i - 1], \n",
    "                        alpha=alpha)\n",
    "    ax.plot(x, 0.0 * x + np.where(x <= gamma / (1 + gamma), 1/gamma, np.nan), c=c, label='$\\\\mathbb{P}(u)$')\n",
    "    ax.plot(x, 0.0 * x + np.where(x > gamma / (1 + gamma), gamma, np.nan), c=c)\n",
    "    \n",
    "    \n",
    "ax.plot(x, 0.0 * x + 1.0, c='k', label='$\\\\mathbb{P}(u \\\\mid \\\\mathbf{a})$')\n",
    "\n",
    "ax.set_xlim(0.0, 1.0)\n",
    "ax.set_ylim(0.0, 2.0)\n",
    "ax.set_aspect(0.3)\n",
    "\n",
    "plt.xlabel(\"$u$\")\n",
    "plt.legend()\n",
    "plt.grid(True)\n",
    "\n",
    "plt.savefig('unobs.svg', bbox_inches = 'tight', pad_inches = 0)"
   ]
  },
  {
   "cell_type": "code",
   "execution_count": 143,
   "metadata": {},
   "outputs": [
    {
     "data": {
      "image/png": "[encoded data removed]",
      "text/plain": [
       "<Figure size 648x216 with 1 Axes>"
      ]
     },
     "metadata": {},
     "output_type": "display_data"
    }
   ],
   "source": [
    "fig, ax = plt.subplots(figsize=(3 * size, size))\n",
    "\n",
    "t = np.arange(0.0, 1.1, 0.1)\n",
    "color = list(cm.Spectral(np.linspace(0, 1, len(t))))\n",
    "x = np.linspace(-3.0, 3.0, 1000)\n",
    "\n",
    "xx = norm.ppf(t[None, ]) + 0.0 * x[:, None]\n",
    "yy = norm.pdf(xx) - x[:, None] - 3.0\n",
    "ax.plot(xx, yy, c='lightgrey', lw=lw)\n",
    "\n",
    "for i in range(len(t) - 1):\n",
    "    ax.fill_between(norm.ppf(t[i:(i+2)]), norm.pdf(norm.ppf(t[i:(i+2)])), [0.0, 0.0], color=color[len(t) - i - 1], \n",
    "                    alpha=alpha)\n",
    "\n",
    "x_l = np.linspace(-3.0, norm.ppf(t[1]), 50)\n",
    "ax.fill_between(x_l, norm.pdf(x_l), np.zeros((50,)), color=color[-1], alpha=alpha)\n",
    "x_r = np.linspace(norm.ppf(t[-2]), 3.0, 50)\n",
    "ax.fill_between(x_r, norm.pdf(x_r), np.zeros((50,)), color=color[1], alpha=alpha)\n",
    "\n",
    "\n",
    "gamma = 1.5\n",
    "xx = norm.ppf(t[None, band:]) + 0.0 * x[:, None]\n",
    "yy = gamma * norm.pdf(xx) - x[:, None] - 3.0\n",
    "ax.plot(xx, yy, c='lightgrey', lw=lw)\n",
    "\n",
    "ax.plot(x, 0.0 * x + np.where(x > norm.ppf(gamma / (1 + gamma)), gamma * norm.pdf(x), np.nan), c='firebrick', \n",
    "       label='$\\\\mathbb{P}(y \\\\mid do(\\\\mathbf{A} = \\\\mathbf{a}))$')\n",
    "ax.plot(x, 0.0 * x + np.where(x <= norm.ppf(gamma / (1 + gamma)), 1 / gamma * norm.pdf(x), np.nan), c='firebrick')\n",
    "\n",
    "for i in range(band):\n",
    "    ax.fill_between(norm.ppf(t[i:(i+2)]), 1 / gamma * norm.pdf(norm.ppf(t[i:(i+2)])), [0.0, 0.0], color=color[len(t) - i - 1], \n",
    "                    alpha=alpha)\n",
    "for i in range(band, len(t) - 1):\n",
    "    ax.fill_between(norm.ppf(t[i:(i+2)]), gamma * norm.pdf(norm.ppf(t[i:(i+2)])), [0.0, 0.0], color=color[len(t) - i - 1], \n",
    "                    alpha=alpha)\n",
    "x_l = np.linspace(-3.0, norm.ppf(t[1]), 50)\n",
    "ax.fill_between(x_l, 1 / gamma * norm.pdf(x_l), np.zeros((50,)), color=color[-1], alpha=alpha)\n",
    "x_r = np.linspace(norm.ppf(t[-2]), 3.0, 50)\n",
    "ax.fill_between(x_r, gamma * norm.pdf(x_r), np.zeros((50,)), color=color[1], alpha=alpha)\n",
    "\n",
    "\n",
    "ax.plot(x, norm.pdf(x), c='k', label='$\\\\mathbb{P}(y \\\\mid \\\\mathbf{a})$')\n",
    "# ax.plot(x, norm.pdf(x), c='firebrick', label='$\\\\mathbb{P}(y \\\\mid \\\\mathbf{a})$')\n",
    "\n",
    "ax.set_xlim(-3.0, 3.0)\n",
    "ax.set_ylim(0.0, 0.65)\n",
    "ax.set_aspect(4.0)\n",
    "\n",
    "plt.xlabel(\"$y$\")\n",
    "plt.legend()\n",
    "plt.grid(True)\n",
    "plt.savefig('obs.svg', bbox_inches = 'tight', pad_inches = 0)"
   ]
  },
  {
   "cell_type": "code",
   "execution_count": null,
   "metadata": {},
   "outputs": [],
   "source": []
  }
 ],
 "metadata": {
  "kernelspec": {
   "display_name": "Python 3",
   "language": "python",
   "name": "python3"
  },
  "language_info": {
   "codemirror_mode": {
    "name": "ipython",
    "version": 3
   },
   "file_extension": ".py",
   "mimetype": "text/x-python",
   "name": "python",
   "nbconvert_exporter": "python",
   "pygments_lexer": "ipython3",
   "version": "3.8.5"
  }
 },
 "nbformat": 4,
 "nbformat_minor": 4
}
